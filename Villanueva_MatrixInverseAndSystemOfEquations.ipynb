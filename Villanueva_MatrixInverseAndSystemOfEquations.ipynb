{
  "nbformat": 4,
  "nbformat_minor": 0,
  "metadata": {
    "colab": {
      "provenance": []
    },
    "kernelspec": {
      "name": "python3",
      "display_name": "Python 3"
    },
    "language_info": {
      "name": "python"
    }
  },
  "cells": [
    {
      "cell_type": "markdown",
      "source": [
        "#### **PROBLEM 1**"
      ],
      "metadata": {
        "id": "Qqa14qEbtAYg"
      }
    },
    {
      "cell_type": "code",
      "execution_count": 1,
      "metadata": {
        "colab": {
          "base_uri": "https://localhost:8080/"
        },
        "id": "IeRmL2kEswou",
        "outputId": "2875bcd1-6f2f-4cef-eabf-997f1488a6bf"
      },
      "outputs": [
        {
          "output_type": "stream",
          "name": "stdout",
          "text": [
            "Inverse of A:\n",
            "[[ 0.71428571 -0.57142857]\n",
            " [-0.28571429  0.42857143]]\n"
          ]
        }
      ],
      "source": [
        "import numpy as np\n",
        "\n",
        "# Define the matrix\n",
        "A = np.array([[3, 4], [2, 5]])\n",
        "\n",
        "# Calculate the determinant\n",
        "det_A = np.linalg.det(A)\n",
        "\n",
        "# Check if the matrix is invertible\n",
        "if det_A != 0:\n",
        "    # Calculate the inverse\n",
        "    A_inv = np.linalg.inv(A)\n",
        "    print(\"Inverse of A:\")\n",
        "    print(A_inv)\n",
        "else:\n",
        "    print(\"Matrix A is not invertible.\")"
      ]
    },
    {
      "cell_type": "markdown",
      "source": [
        "#### **PROBLEM 2**"
      ],
      "metadata": {
        "id": "fmsqbr0ntSOs"
      }
    },
    {
      "cell_type": "code",
      "source": [
        "import numpy as np\n",
        "\n",
        "# Define the coefficient matrix\n",
        "A = np.array([[2, 3], [4, -1]])\n",
        "\n",
        "# Define the constant vector\n",
        "b = np.array([7, 5])\n",
        "\n",
        "# Check if the matrix is invertible\n",
        "if np.linalg.det(A) != 0:\n",
        "    # Solve for x using matrix inverse\n",
        "    x = np.linalg.inv(A).dot(b)\n",
        "    print(\"Solution for [x, y]:\")\n",
        "    print(x)\n",
        "else:\n",
        "    print(\"Matrix A is not invertible, no unique solution.\")"
      ],
      "metadata": {
        "colab": {
          "base_uri": "https://localhost:8080/"
        },
        "id": "iGA9A9N5tRIv",
        "outputId": "c88c7b6f-6e01-4dc0-afa2-6a6f2ca60397"
      },
      "execution_count": 2,
      "outputs": [
        {
          "output_type": "stream",
          "name": "stdout",
          "text": [
            "Solution for [x, y]:\n",
            "[1.57142857 1.28571429]\n"
          ]
        }
      ]
    },
    {
      "cell_type": "markdown",
      "source": [
        "#### **PROBLEM 3**"
      ],
      "metadata": {
        "id": "ZM2jFklttgrI"
      }
    },
    {
      "cell_type": "code",
      "source": [
        "import numpy as np\n",
        "\n",
        "# Define the matrix\n",
        "A = np.array([[1, 2, 3], [0, 1, 4], [5, 6, 0]])\n",
        "\n",
        "# Calculate the determinant\n",
        "det_A = np.linalg.det(A)\n",
        "\n",
        "# Check if the matrix is invertible\n",
        "if det_A != 0:\n",
        "    # Calculate the inverse\n",
        "    A_inv = np.linalg.inv(A)\n",
        "    print(\"Inverse of A:\")\n",
        "    print(A_inv)\n",
        "else:\n",
        "    print(\"Matrix A is not invertible.\")"
      ],
      "metadata": {
        "colab": {
          "base_uri": "https://localhost:8080/"
        },
        "id": "8fLRUX4ftjDk",
        "outputId": "6006d693-125c-41a8-92c2-f2329c58dc1b"
      },
      "execution_count": 3,
      "outputs": [
        {
          "output_type": "stream",
          "name": "stdout",
          "text": [
            "Inverse of A:\n",
            "[[-24.  18.   5.]\n",
            " [ 20. -15.  -4.]\n",
            " [ -5.   4.   1.]]\n"
          ]
        }
      ]
    },
    {
      "cell_type": "markdown",
      "source": [
        "#### **PROBLEM 4**"
      ],
      "metadata": {
        "id": "4y3V6m4BtoPu"
      }
    },
    {
      "cell_type": "code",
      "source": [
        "import numpy as np\n",
        "\n",
        "# Define the coefficient matrix\n",
        "A = np.array([[1, 1, 1], [2, 5, 1], [2, 3, 8]])\n",
        "\n",
        "# Define the constant vector\n",
        "b = np.array([6, -4, 9])\n",
        "\n",
        "# Check if the matrix is invertible\n",
        "if np.linalg.det(A) != 0:\n",
        "    # Solve for x using matrix inverse\n",
        "    x = np.linalg.inv(A).dot(b)\n",
        "    print(\"Solution for [x, y, z]:\")\n",
        "    print(x)\n",
        "else:\n",
        "    print(\"Matrix A is not invertible, no unique solution.\")"
      ],
      "metadata": {
        "colab": {
          "base_uri": "https://localhost:8080/"
        },
        "id": "FcQbvRlLtrZs",
        "outputId": "94e19915-1dd3-4da4-f05f-3e4209666ab4"
      },
      "execution_count": 4,
      "outputs": [
        {
          "output_type": "stream",
          "name": "stdout",
          "text": [
            "Solution for [x, y, z]:\n",
            "[10.84210526 -5.21052632  0.36842105]\n"
          ]
        }
      ]
    },
    {
      "cell_type": "markdown",
      "source": [
        "#### **`PROBLEM 5`**"
      ],
      "metadata": {
        "id": "dd17rzz7tz4P"
      }
    },
    {
      "cell_type": "code",
      "source": [
        "import numpy as np\n",
        "\n",
        "# Define the coefficient matrix\n",
        "A = np.array([[4, -1, 0], [3, 5, 2], [-2, 4, 1]])\n",
        "\n",
        "# Define the constant vector\n",
        "b = np.array([5, 6, 2])\n",
        "\n",
        "# Check if the matrix is invertible\n",
        "if np.linalg.det(A) != 0:\n",
        "    # Solve for x using matrix inverse\n",
        "    x = np.linalg.inv(A).dot(b)\n",
        "    print(\"Solution for [x, y, z]:\")\n",
        "    print(x)\n",
        "else:\n",
        "    print(\"Matrix A is not invertible, no unique solution.\")"
      ],
      "metadata": {
        "colab": {
          "base_uri": "https://localhost:8080/"
        },
        "id": "bvTM3EjJt4bM",
        "outputId": "b40c1c08-0676-4215-f19a-a6e152edf3fa"
      },
      "execution_count": 5,
      "outputs": [
        {
          "output_type": "stream",
          "name": "stdout",
          "text": [
            "Solution for [x, y, z]:\n",
            "[  2.6   5.4 -14.4]\n"
          ]
        }
      ]
    },
    {
      "cell_type": "markdown",
      "source": [
        "#### **BONUS CHALLENGE**"
      ],
      "metadata": {
        "id": "Q0_4ugnrt9JP"
      }
    },
    {
      "cell_type": "code",
      "source": [
        "import numpy as np\n",
        "\n",
        "def matrix_inverse(A):\n",
        "    \"\"\"\n",
        "    Calculates the inverse of a matrix if it exists.\n",
        "\n",
        "    Args:\n",
        "        A: A square numpy array representing the matrix.\n",
        "\n",
        "    Returns:\n",
        "        The inverse of the matrix if it exists, otherwise prints a message.\n",
        "    \"\"\"\n",
        "\n",
        "    det_A = np.linalg.det(A)\n",
        "    if det_A != 0:\n",
        "        return np.linalg.inv(A)\n",
        "    else:\n",
        "        print(\"Matrix A is not invertible.\")\n",
        "\n",
        "# Example usage\n",
        "A = np.array([[2, 1], [4, 3]])\n",
        "inverse_A = matrix_inverse(A)\n",
        "if inverse_A is not None:\n",
        "    print(\"Inverse of A:\")\n",
        "    print(inverse_A)"
      ],
      "metadata": {
        "colab": {
          "base_uri": "https://localhost:8080/"
        },
        "id": "pdlxkDoMt9Y9",
        "outputId": "afacee44-d13c-4d21-fa67-ef3265c3934a"
      },
      "execution_count": 6,
      "outputs": [
        {
          "output_type": "stream",
          "name": "stdout",
          "text": [
            "Inverse of A:\n",
            "[[ 1.5 -0.5]\n",
            " [-2.   1. ]]\n"
          ]
        }
      ]
    }
  ]
}